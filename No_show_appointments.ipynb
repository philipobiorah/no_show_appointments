{
 "cells": [
  {
   "cell_type": "markdown",
   "id": "51d5dee7",
   "metadata": {},
   "source": [
    "## Project : Predicting  Medical Appointment No Shows\n",
    "by Obiorah Philip (2304216)"
   ]
  },
  {
   "cell_type": "markdown",
   "id": "9d1242e3",
   "metadata": {},
   "source": [
    "### Business Understanding:"
   ]
  },
  {
   "cell_type": "markdown",
   "id": "5bf7d0d3",
   "metadata": {},
   "source": [
    "(a) Background Study:\n",
    "> No-shows for medical appointments is a widespread and serious problem in the healthcare industry. Patients who miss their appointments can cause inefficiencies in the healthcare system, waste of resources, higher expenses, and delays in other patients' access to care. Healthcare practitioners can increase patient attendance rates and streamline their scheduling procedures by being aware of the variables that lead to appointment no-shows. Failure to attend outpatient visits has a detrimental influence on the healthcare result. Thus, healthcare organisations are focusing on new prospects, one of which is to increase healthcare quality.\n",
    "\n",
    "> The goal of this project is to create a predictive model that can reliably predict whether or not a patient will show up for a planned medical visit. Healthcare practitioners may adopt focused interventions and initiatives to minimise no-show rates, optimise resource allocation, and improve overall patient care by understanding the primary variables impacting no-shows."
   ]
  },
  {
   "cell_type": "markdown",
   "id": "94cbb87c",
   "metadata": {},
   "source": [
    "(b) Project Overall Aim and Business Objectives:\n",
    "> The ultimate goal of this research is to develop a prediction model that can accurately forecast if a patient will attend a medical visit. The following business objectives have been defined to attain this goal:\n",
    "\n",
    "- Develop a thorough grasp of the dataset: Investigate the dataset of 110,527 medical appointments offered and learn about the characteristics and factors linked with each session.\n",
    "\n",
    "- Determine the following data mining tasks: Determine possible data mining tasks that may be applied to the dataset in order to meet the project goal. Classification, feature selection, data preparation, and model assessment may all be included.\n",
    "\n",
    "- Connect corporate goals to data mining tasks: Determine the link between the defined business goals and the individual data mining tasks. Choosing relevant features that have a major influence on appointment no-shows, for example, or using a classification model to predict no-show results.\n",
    "\n",
    "\n"
   ]
  },
  {
   "cell_type": "markdown",
   "id": "ca6cb4eb",
   "metadata": {},
   "source": [
    "(c) Literature Review:\n",
    ">Predicting medical appointment attendance has piqued the interest of researchers in the field of healthcare because of its potential influence on resource optimisation, patient care, and overall operational efficiency. Data mining techniques have been widely used to address this issue and identify trends and variables influencing appointment no-shows. Several research have investigated various strategies and approaches, proving data mining's promise in this subject.\n",
    "\n",
    "> To anticipate medical appointment no-shows, classification techniques such as decision trees, logistic regression, support vector machines, and random forests have been widely employed. These algorithms use patient-related characteristics, scheduling considerations, and historical data to create models that can tell the difference between patients who are more likely to show up and those who are more likely to not show up.\n",
    "\n",
    "> Another important factor in determining appointment attendance is feature selection. To determine the most relevant characteristics that contribute substantially to appointment no-shows, researchers used approaches such as information gain, chi-square, and correlation analysis. Models with increased accuracy and interpretability may be developed by selecting informative characteristics."
   ]
  },
  {
   "cell_type": "markdown",
   "id": "d73efecc",
   "metadata": {},
   "source": [
    "### Data exploration and understanding."
   ]
  },
  {
   "cell_type": "code",
   "execution_count": null,
   "id": "ce30ca86",
   "metadata": {},
   "outputs": [],
   "source": []
  }
 ],
 "metadata": {
  "kernelspec": {
   "display_name": "Python 3 (ipykernel)",
   "language": "python",
   "name": "python3"
  },
  "language_info": {
   "codemirror_mode": {
    "name": "ipython",
    "version": 3
   },
   "file_extension": ".py",
   "mimetype": "text/x-python",
   "name": "python",
   "nbconvert_exporter": "python",
   "pygments_lexer": "ipython3",
   "version": "3.9.12"
  }
 },
 "nbformat": 4,
 "nbformat_minor": 5
}
